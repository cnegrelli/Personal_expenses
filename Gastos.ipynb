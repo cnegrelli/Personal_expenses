{
 "cells": [
  {
   "cell_type": "markdown",
   "metadata": {},
   "source": [
    "# Gastos Rochester"
   ]
  },
  {
   "cell_type": "code",
   "execution_count": 34,
   "metadata": {},
   "outputs": [],
   "source": [
    "import pandas as pd\n",
    "import matplotlib.pyplot as plt\n",
    "import seaborn as sb\n",
    "sb.set()\n",
    "%matplotlib inline"
   ]
  },
  {
   "cell_type": "code",
   "execution_count": 2,
   "metadata": {},
   "outputs": [],
   "source": [
    "gastos = pd.read_csv('Rochester_gastos.csv')"
   ]
  },
  {
   "cell_type": "code",
   "execution_count": 3,
   "metadata": {},
   "outputs": [
    {
     "data": {
      "text/html": [
       "<div>\n",
       "<style scoped>\n",
       "    .dataframe tbody tr th:only-of-type {\n",
       "        vertical-align: middle;\n",
       "    }\n",
       "\n",
       "    .dataframe tbody tr th {\n",
       "        vertical-align: top;\n",
       "    }\n",
       "\n",
       "    .dataframe thead th {\n",
       "        text-align: right;\n",
       "    }\n",
       "</style>\n",
       "<table border=\"1\" class=\"dataframe\">\n",
       "  <thead>\n",
       "    <tr style=\"text-align: right;\">\n",
       "      <th></th>\n",
       "      <th>Fecha</th>\n",
       "      <th>Lugar</th>\n",
       "      <th>Categoria</th>\n",
       "      <th>Sub_categoria</th>\n",
       "      <th>Total</th>\n",
       "    </tr>\n",
       "  </thead>\n",
       "  <tbody>\n",
       "    <tr>\n",
       "      <th>0</th>\n",
       "      <td>2/1/2020</td>\n",
       "      <td>Tops</td>\n",
       "      <td>Supermercado</td>\n",
       "      <td>Comida</td>\n",
       "      <td>63.69</td>\n",
       "    </tr>\n",
       "    <tr>\n",
       "      <th>1</th>\n",
       "      <td>2/1/2020</td>\n",
       "      <td>Dollar General</td>\n",
       "      <td>Auto</td>\n",
       "      <td>Otros</td>\n",
       "      <td>21.28</td>\n",
       "    </tr>\n",
       "    <tr>\n",
       "      <th>2</th>\n",
       "      <td>2/1/2020</td>\n",
       "      <td>Nissan</td>\n",
       "      <td>Auto</td>\n",
       "      <td>Otros</td>\n",
       "      <td>9.18</td>\n",
       "    </tr>\n",
       "    <tr>\n",
       "      <th>3</th>\n",
       "      <td>2/1/2020</td>\n",
       "      <td>Dragon Palace</td>\n",
       "      <td>Restaurant</td>\n",
       "      <td>Almuerzo</td>\n",
       "      <td>36.91</td>\n",
       "    </tr>\n",
       "    <tr>\n",
       "      <th>4</th>\n",
       "      <td>2/1/2020</td>\n",
       "      <td>Amazon</td>\n",
       "      <td>Unicos</td>\n",
       "      <td>Mesitas de luz</td>\n",
       "      <td>99.34</td>\n",
       "    </tr>\n",
       "  </tbody>\n",
       "</table>\n",
       "</div>"
      ],
      "text/plain": [
       "      Fecha           Lugar     Categoria   Sub_categoria  Total\n",
       "0  2/1/2020            Tops  Supermercado          Comida  63.69\n",
       "1  2/1/2020  Dollar General          Auto           Otros  21.28\n",
       "2  2/1/2020          Nissan          Auto           Otros   9.18\n",
       "3  2/1/2020   Dragon Palace    Restaurant        Almuerzo  36.91\n",
       "4  2/1/2020          Amazon        Unicos  Mesitas de luz  99.34"
      ]
     },
     "execution_count": 3,
     "metadata": {},
     "output_type": "execute_result"
    }
   ],
   "source": [
    "gastos.head()"
   ]
  },
  {
   "cell_type": "code",
   "execution_count": 11,
   "metadata": {},
   "outputs": [
    {
     "data": {
      "text/plain": [
       "Fecha             object\n",
       "Lugar             object\n",
       "Categoria         object\n",
       "Sub_categoria     object\n",
       "Total            float64\n",
       "dtype: object"
      ]
     },
     "execution_count": 11,
     "metadata": {},
     "output_type": "execute_result"
    }
   ],
   "source": [
    "gastos.dtypes"
   ]
  },
  {
   "cell_type": "code",
   "execution_count": 4,
   "metadata": {},
   "outputs": [],
   "source": [
    "gastos['Fecha']=pd.to_datetime(gastos['Fecha'])"
   ]
  },
  {
   "cell_type": "code",
   "execution_count": 5,
   "metadata": {},
   "outputs": [],
   "source": [
    "gastos['Month']=gastos['Fecha'].dt.month"
   ]
  },
  {
   "cell_type": "code",
   "execution_count": 6,
   "metadata": {},
   "outputs": [],
   "source": [
    "gastos['Day']=gastos['Fecha'].dt.day"
   ]
  },
  {
   "cell_type": "code",
   "execution_count": 7,
   "metadata": {},
   "outputs": [
    {
     "data": {
      "text/plain": [
       "(166, 7)"
      ]
     },
     "execution_count": 7,
     "metadata": {},
     "output_type": "execute_result"
    }
   ],
   "source": [
    "gastos.shape"
   ]
  },
  {
   "cell_type": "code",
   "execution_count": 8,
   "metadata": {},
   "outputs": [
    {
     "data": {
      "text/plain": [
       "4522.960000000001"
      ]
     },
     "execution_count": 8,
     "metadata": {},
     "output_type": "execute_result"
    }
   ],
   "source": [
    "gastos[gastos.Month==2].Total.sum()"
   ]
  },
  {
   "cell_type": "code",
   "execution_count": 9,
   "metadata": {},
   "outputs": [
    {
     "data": {
      "text/plain": [
       "3381.26"
      ]
     },
     "execution_count": 9,
     "metadata": {},
     "output_type": "execute_result"
    }
   ],
   "source": [
    "gastos[gastos.Month==3].Total.sum()"
   ]
  },
  {
   "cell_type": "code",
   "execution_count": 10,
   "metadata": {},
   "outputs": [
    {
     "data": {
      "text/plain": [
       "1426.98"
      ]
     },
     "execution_count": 10,
     "metadata": {},
     "output_type": "execute_result"
    }
   ],
   "source": [
    "gastos[gastos.Month==4].Total.sum()"
   ]
  },
  {
   "cell_type": "code",
   "execution_count": 27,
   "metadata": {},
   "outputs": [],
   "source": [
    "categorias = gastos.groupby(['Categoria','Month']).Total.sum()"
   ]
  },
  {
   "cell_type": "code",
   "execution_count": 41,
   "metadata": {},
   "outputs": [
    {
     "data": {
      "image/png": "[encoded data removed]",
      "text/plain": [
       "<Figure size 1080x720 with 1 Axes>"
      ]
     },
     "metadata": {
      "needs_background": "light"
     },
     "output_type": "display_data"
    }
   ],
   "source": [
    "categorias.unstack().plot(kind='bar', stacked=False,figsize=[15,10])\n",
    "plt.xticks(\n",
    "    rotation=0,\n",
    "   # horizontalalignment='right',\n",
    "   # fontweight='light',\n",
    "    fontsize='medium',\n",
    ");"
   ]
  },
  {
   "cell_type": "code",
   "execution_count": 12,
   "metadata": {},
   "outputs": [
    {
     "data": {
      "text/plain": [
       "Categoria        Sub_categoria     Month\n",
       "Auto             Arreglos          2         362.65\n",
       "                 Insurance         3         265.67\n",
       "                 Lavado            2          23.71\n",
       "                                   4          23.71\n",
       "                 Nafta             2         115.75\n",
       "                                   3          41.18\n",
       "                 Otros             2          43.12\n",
       "                 Peajes            2          25.00\n",
       "                                   3          25.00\n",
       "Entretenimiento  Bowling           2          30.00\n",
       "                                   3          21.00\n",
       "                 Cine              2          57.80\n",
       "                 Teatro            2         205.10\n",
       "Restaurant       Almuerzo          2         188.35\n",
       "                                   3         125.62\n",
       "                 Cena              2         314.74\n",
       "                                   3         109.76\n",
       "                 Otros             2          43.97\n",
       "                                   3          44.43\n",
       "Ropa             Ropa              2         131.52\n",
       "                                   3         171.89\n",
       "Servicios        Alquiler          2        1055.00\n",
       "                                   3        1055.00\n",
       "                                   4        1055.00\n",
       "                 Celular           2         108.21\n",
       "                                   3          98.18\n",
       "                                   4          98.18\n",
       "                 Cursos            2          14.99\n",
       "                                   3         113.99\n",
       "                 Insurance         2         138.10\n",
       "                                             ...   \n",
       "                 Prime             3           7.01\n",
       "Supermercado     Comida            2         504.89\n",
       "                                   3         900.40\n",
       "                                   4         211.62\n",
       "                 Higiene           2          31.10\n",
       "                                   3          91.55\n",
       "                 Limpieza          2          15.83\n",
       "                                   3          10.20\n",
       "                 Otros             2          69.56\n",
       "                                   3          14.98\n",
       "                 Unicos            2          13.20\n",
       "                                   3          27.64\n",
       "                                   4           6.91\n",
       "Unicos           Acolchado         2          26.99\n",
       "                 Auriculares       2         150.12\n",
       "                 Banquito cocina   3          10.79\n",
       "                 Cobro transf      3           7.00\n",
       "                 Correo            3           5.57\n",
       "                 Lamparas          2          38.86\n",
       "                 Libros            3           5.78\n",
       "                 Merchandasing     2           8.44\n",
       "                 Mesitas de luz    2          99.34\n",
       "                 Minipimer y olla  2          80.96\n",
       "                 Muebles           2         251.94\n",
       "                 Organizador       2           8.60\n",
       "                 Regalo mama       3          44.71\n",
       "                 Regalo vero       4          11.57\n",
       "                 Rompecabezas      2          21.26\n",
       "                 Sabanas           2          16.19\n",
       "                 Visa Canada       2         276.66\n",
       "Name: Total, Length: 68, dtype: float64"
      ]
     },
     "execution_count": 12,
     "metadata": {},
     "output_type": "execute_result"
    }
   ],
   "source": [
    "gastos.groupby(['Categoria','Sub_categoria','Month']).Total.sum()"
   ]
  },
  {
   "cell_type": "code",
   "execution_count": 33,
   "metadata": {},
   "outputs": [],
   "source": [
    "#gastos[gastos.Categoria == 'Restaurant'].groupby(['Lugar']).Total.sum()"
   ]
  },
  {
   "cell_type": "code",
   "execution_count": 13,
   "metadata": {},
   "outputs": [
    {
     "data": {
      "image/png": "[encoded data removed]",
      "text/plain": [
       "<Figure size 432x288 with 1 Axes>"
      ]
     },
     "metadata": {
      "needs_background": "light"
     },
     "output_type": "display_data"
    }
   ],
   "source": [
    "plt.plot(gastos.groupby('Month').Total.sum(),'o');"
   ]
  },
  {
   "cell_type": "code",
   "execution_count": 21,
   "metadata": {},
   "outputs": [
    {
     "data": {
      "text/plain": [
       "<matplotlib.axes._subplots.AxesSubplot at 0x7f69688f2dd8>"
      ]
     },
     "execution_count": 21,
     "metadata": {},
     "output_type": "execute_result"
    },
    {
     "data": {
      "image/png": "[encoded data removed]",
      "text/plain": [
       "<Figure size 432x288 with 1 Axes>"
      ]
     },
     "metadata": {
      "needs_background": "light"
     },
     "output_type": "display_data"
    }
   ],
   "source": [
    "gastos[gastos.Sub_categoria == 'Comida'].Total.plot()"
   ]
  },
  {
   "cell_type": "code",
   "execution_count": 18,
   "metadata": {},
   "outputs": [],
   "source": [
    "comida = gastos[gastos.Sub_categoria == 'Comida']"
   ]
  },
  {
   "cell_type": "code",
   "execution_count": 19,
   "metadata": {},
   "outputs": [
    {
     "data": {
      "text/plain": [
       "<matplotlib.collections.PathCollection at 0x7f6967a1acc0>"
      ]
     },
     "execution_count": 19,
     "metadata": {},
     "output_type": "execute_result"
    },
    {
     "data": {
      "image/png": "[encoded data removed]",
      "text/plain": [
       "<Figure size 432x288 with 1 Axes>"
      ]
     },
     "metadata": {
      "needs_background": "light"
     },
     "output_type": "display_data"
    }
   ],
   "source": [
    "plt.scatter(x=comida['Fecha'],y=comida['Total'])"
   ]
  },
  {
   "cell_type": "code",
   "execution_count": null,
   "metadata": {},
   "outputs": [],
   "source": []
  },
  {
   "cell_type": "code",
   "execution_count": null,
   "metadata": {},
   "outputs": [],
   "source": []
  }
 ],
 "metadata": {
  "kernelspec": {
   "display_name": "Python 3",
   "language": "python",
   "name": "python3"
  },
  "language_info": {
   "codemirror_mode": {
    "name": "ipython",
    "version": 3
   },
   "file_extension": ".py",
   "mimetype": "text/x-python",
   "name": "python",
   "nbconvert_exporter": "python",
   "pygments_lexer": "ipython3",
   "version": "3.7.3"
  }
 },
 "nbformat": 4,
 "nbformat_minor": 2
}
