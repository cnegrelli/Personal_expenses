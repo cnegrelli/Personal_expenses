{
 "cells": [
  {
   "cell_type": "markdown",
   "metadata": {},
   "source": [
    "# Gastos"
   ]
  },
  {
   "cell_type": "code",
   "execution_count": 36,
   "metadata": {},
   "outputs": [],
   "source": [
    "import pandas as pd\n",
    "import matplotlib.pyplot as plt\n",
    "import seaborn as sb\n",
    "\n",
    "%matplotlib inline"
   ]
  },
  {
   "cell_type": "code",
   "execution_count": 48,
   "metadata": {},
   "outputs": [],
   "source": [
    "gastos = pd.read_csv('Rochester_gastos.csv')"
   ]
  },
  {
   "cell_type": "code",
   "execution_count": 38,
   "metadata": {},
   "outputs": [
    {
     "data": {
      "text/html": [
       "<div>\n",
       "<style scoped>\n",
       "    .dataframe tbody tr th:only-of-type {\n",
       "        vertical-align: middle;\n",
       "    }\n",
       "\n",
       "    .dataframe tbody tr th {\n",
       "        vertical-align: top;\n",
       "    }\n",
       "\n",
       "    .dataframe thead th {\n",
       "        text-align: right;\n",
       "    }\n",
       "</style>\n",
       "<table border=\"1\" class=\"dataframe\">\n",
       "  <thead>\n",
       "    <tr style=\"text-align: right;\">\n",
       "      <th></th>\n",
       "      <th>Fecha</th>\n",
       "      <th>Lugar</th>\n",
       "      <th>Categoria</th>\n",
       "      <th>Sub_categoria</th>\n",
       "      <th>Total</th>\n",
       "    </tr>\n",
       "  </thead>\n",
       "  <tbody>\n",
       "    <tr>\n",
       "      <th>0</th>\n",
       "      <td>2/1/2020</td>\n",
       "      <td>Tops</td>\n",
       "      <td>Supermercado</td>\n",
       "      <td>Comida</td>\n",
       "      <td>63.69</td>\n",
       "    </tr>\n",
       "    <tr>\n",
       "      <th>1</th>\n",
       "      <td>2/1/2020</td>\n",
       "      <td>Dollar General</td>\n",
       "      <td>Auto</td>\n",
       "      <td>Otros</td>\n",
       "      <td>21.28</td>\n",
       "    </tr>\n",
       "    <tr>\n",
       "      <th>2</th>\n",
       "      <td>2/1/2020</td>\n",
       "      <td>Nissan</td>\n",
       "      <td>Auto</td>\n",
       "      <td>Otros</td>\n",
       "      <td>9.18</td>\n",
       "    </tr>\n",
       "    <tr>\n",
       "      <th>3</th>\n",
       "      <td>2/1/2020</td>\n",
       "      <td>Dragon Palace</td>\n",
       "      <td>Restaurant</td>\n",
       "      <td>Almuerzo</td>\n",
       "      <td>36.91</td>\n",
       "    </tr>\n",
       "    <tr>\n",
       "      <th>4</th>\n",
       "      <td>2/1/2020</td>\n",
       "      <td>Amazon</td>\n",
       "      <td>Unicos</td>\n",
       "      <td>Mesitas de luz</td>\n",
       "      <td>99.34</td>\n",
       "    </tr>\n",
       "  </tbody>\n",
       "</table>\n",
       "</div>"
      ],
      "text/plain": [
       "      Fecha           Lugar     Categoria   Sub_categoria  Total\n",
       "0  2/1/2020            Tops  Supermercado          Comida  63.69\n",
       "1  2/1/2020  Dollar General          Auto           Otros  21.28\n",
       "2  2/1/2020          Nissan          Auto           Otros   9.18\n",
       "3  2/1/2020   Dragon Palace    Restaurant        Almuerzo  36.91\n",
       "4  2/1/2020          Amazon        Unicos  Mesitas de luz  99.34"
      ]
     },
     "execution_count": 38,
     "metadata": {},
     "output_type": "execute_result"
    }
   ],
   "source": [
    "gastos.head()"
   ]
  },
  {
   "cell_type": "code",
   "execution_count": 39,
   "metadata": {},
   "outputs": [
    {
     "data": {
      "text/plain": [
       "Fecha             object\n",
       "Lugar             object\n",
       "Categoria         object\n",
       "Sub_categoria     object\n",
       "Total            float64\n",
       "dtype: object"
      ]
     },
     "execution_count": 39,
     "metadata": {},
     "output_type": "execute_result"
    }
   ],
   "source": [
    "gastos.dtypes"
   ]
  },
  {
   "cell_type": "code",
   "execution_count": 40,
   "metadata": {},
   "outputs": [],
   "source": [
    "gastos['Fecha']=pd.to_datetime(gastos['Fecha'])"
   ]
  },
  {
   "cell_type": "code",
   "execution_count": 41,
   "metadata": {},
   "outputs": [],
   "source": [
    "gastos['Month']=gastos['Fecha'].dt.month"
   ]
  },
  {
   "cell_type": "code",
   "execution_count": 42,
   "metadata": {},
   "outputs": [
    {
     "data": {
      "text/plain": [
       "(93, 6)"
      ]
     },
     "execution_count": 42,
     "metadata": {},
     "output_type": "execute_result"
    }
   ],
   "source": [
    "gastos.shape"
   ]
  },
  {
   "cell_type": "code",
   "execution_count": 43,
   "metadata": {},
   "outputs": [
    {
     "data": {
      "text/plain": [
       "4384.860000000001"
      ]
     },
     "execution_count": 43,
     "metadata": {},
     "output_type": "execute_result"
    }
   ],
   "source": [
    "gastos[gastos.Month==2].Total.sum()"
   ]
  },
  {
   "cell_type": "code",
   "execution_count": 44,
   "metadata": {},
   "outputs": [
    {
     "data": {
      "text/plain": [
       "Categoria        Month\n",
       "Auto             2         570.23\n",
       "Entretenimiento  2         292.90\n",
       "Restaurant       2         547.06\n",
       "Ropa             2         131.52\n",
       "Servicios        2        1229.21\n",
       "Supermercado     2         634.58\n",
       "Unicos           2         979.36\n",
       "Name: Total, dtype: float64"
      ]
     },
     "execution_count": 44,
     "metadata": {},
     "output_type": "execute_result"
    }
   ],
   "source": [
    "gastos.groupby(['Categoria','Month']).Total.sum()"
   ]
  },
  {
   "cell_type": "code",
   "execution_count": 45,
   "metadata": {},
   "outputs": [
    {
     "data": {
      "text/plain": [
       "Categoria        Sub_categoria     Month\n",
       "Auto             Arreglos          2         362.65\n",
       "                 Lavado            2          23.71\n",
       "                 Nafta             2         115.75\n",
       "                 Otros             2          43.12\n",
       "                 Peajes            2          25.00\n",
       "Entretenimiento  Bowling           2          30.00\n",
       "                 Cine              2          57.80\n",
       "                 Teatro            2         205.10\n",
       "Restaurant       Almuerzo          2         188.35\n",
       "                 Cena              2         314.74\n",
       "                 Otros             2          43.97\n",
       "Ropa             Ropa              2         131.52\n",
       "Servicios        Alquiler          2        1055.00\n",
       "                 Celular           2         108.21\n",
       "                 Cursos            2          14.99\n",
       "                 Laundry           2          20.00\n",
       "                 Otros             2          24.00\n",
       "                 Prime             2           7.01\n",
       "Supermercado     Comida            2         504.89\n",
       "                 Higiene           2          31.10\n",
       "                 Limpieza          2          15.83\n",
       "                 Otros             2          69.56\n",
       "                 Unicos            2          13.20\n",
       "Unicos           Acolchado         2          26.99\n",
       "                 Auriculares       2         150.12\n",
       "                 Lamparas          2          38.86\n",
       "                 Merchandasing     2           8.44\n",
       "                 Mesitas de luz    2          99.34\n",
       "                 Minipimer y olla  2          80.96\n",
       "                 Muebles           2         251.94\n",
       "                 Organizador       2           8.60\n",
       "                 Rompecabezas      2          21.26\n",
       "                 Sabanas           2          16.19\n",
       "                 Visa Canada       2         276.66\n",
       "Name: Total, dtype: float64"
      ]
     },
     "execution_count": 45,
     "metadata": {},
     "output_type": "execute_result"
    }
   ],
   "source": [
    "gastos.groupby(['Categoria','Sub_categoria','Month']).Total.sum()"
   ]
  },
  {
   "cell_type": "code",
   "execution_count": 49,
   "metadata": {},
   "outputs": [
    {
     "data": {
      "text/plain": [
       "Lugar\n",
       "Arethusa              12.88\n",
       "Asa evi turkish       33.76\n",
       "Bill Grays            21.58\n",
       "Cheesecake factory    19.85\n",
       "Dibellas              18.11\n",
       "Dragon Palace         36.91\n",
       "Genesse               47.20\n",
       "Java                   9.75\n",
       "Jays dinner           80.70\n",
       "Olive Garden          56.89\n",
       "Osaka sushi           60.89\n",
       "Pontos griego         50.95\n",
       "RIT                   30.50\n",
       "Raj Mahal             53.31\n",
       "Taco bell             13.78\n",
       "Name: Total, dtype: float64"
      ]
     },
     "execution_count": 49,
     "metadata": {},
     "output_type": "execute_result"
    }
   ],
   "source": [
    "gastos[gastos.Categoria == 'Restaurant'].groupby(['Lugar']).Total.sum()"
   ]
  },
  {
   "cell_type": "code",
   "execution_count": null,
   "metadata": {},
   "outputs": [],
   "source": []
  }
 ],
 "metadata": {
  "kernelspec": {
   "display_name": "Python 3",
   "language": "python",
   "name": "python3"
  },
  "language_info": {
   "codemirror_mode": {
    "name": "ipython",
    "version": 3
   },
   "file_extension": ".py",
   "mimetype": "text/x-python",
   "name": "python",
   "nbconvert_exporter": "python",
   "pygments_lexer": "ipython3",
   "version": "3.7.3"
  }
 },
 "nbformat": 4,
 "nbformat_minor": 2
}
