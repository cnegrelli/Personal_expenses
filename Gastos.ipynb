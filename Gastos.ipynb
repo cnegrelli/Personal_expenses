{
 "cells": [
  {
   "cell_type": "markdown",
   "metadata": {},
   "source": [
    "# Gastos Rochester"
   ]
  },
  {
   "cell_type": "code",
   "execution_count": 1,
   "metadata": {},
   "outputs": [],
   "source": [
    "import pandas as pd\n",
    "import matplotlib.pyplot as plt\n",
    "import seaborn as sb\n",
    "sb.set()\n",
    "%matplotlib inline"
   ]
  },
  {
   "cell_type": "code",
   "execution_count": 2,
   "metadata": {},
   "outputs": [],
   "source": [
    "gastos = pd.read_csv('Rochester_gastos.csv')"
   ]
  },
  {
   "cell_type": "code",
   "execution_count": 3,
   "metadata": {},
   "outputs": [
    {
     "data": {
      "text/html": [
       "<div>\n",
       "<style scoped>\n",
       "    .dataframe tbody tr th:only-of-type {\n",
       "        vertical-align: middle;\n",
       "    }\n",
       "\n",
       "    .dataframe tbody tr th {\n",
       "        vertical-align: top;\n",
       "    }\n",
       "\n",
       "    .dataframe thead th {\n",
       "        text-align: right;\n",
       "    }\n",
       "</style>\n",
       "<table border=\"1\" class=\"dataframe\">\n",
       "  <thead>\n",
       "    <tr style=\"text-align: right;\">\n",
       "      <th></th>\n",
       "      <th>Fecha</th>\n",
       "      <th>Lugar</th>\n",
       "      <th>Categoria</th>\n",
       "      <th>Sub_categoria</th>\n",
       "      <th>Total</th>\n",
       "    </tr>\n",
       "  </thead>\n",
       "  <tbody>\n",
       "    <tr>\n",
       "      <th>218</th>\n",
       "      <td>6/4/2020</td>\n",
       "      <td>T-mobile</td>\n",
       "      <td>Servicios</td>\n",
       "      <td>Celular</td>\n",
       "      <td>98.15</td>\n",
       "    </tr>\n",
       "    <tr>\n",
       "      <th>219</th>\n",
       "      <td>6/2/2020</td>\n",
       "      <td>Spotify</td>\n",
       "      <td>Servicios</td>\n",
       "      <td>Otros</td>\n",
       "      <td>9.99</td>\n",
       "    </tr>\n",
       "    <tr>\n",
       "      <th>220</th>\n",
       "      <td>6/2/2020</td>\n",
       "      <td>Hercules</td>\n",
       "      <td>Servicios</td>\n",
       "      <td>Laundry</td>\n",
       "      <td>10.00</td>\n",
       "    </tr>\n",
       "    <tr>\n",
       "      <th>221</th>\n",
       "      <td>6/6/2020</td>\n",
       "      <td>Chipotle</td>\n",
       "      <td>Restaurant</td>\n",
       "      <td>Cena</td>\n",
       "      <td>11.56</td>\n",
       "    </tr>\n",
       "    <tr>\n",
       "      <th>222</th>\n",
       "      <td>6/6/2020</td>\n",
       "      <td>Home depot</td>\n",
       "      <td>Supermercado</td>\n",
       "      <td>Unicos</td>\n",
       "      <td>33.71</td>\n",
       "    </tr>\n",
       "    <tr>\n",
       "      <th>223</th>\n",
       "      <td>6/13/2020</td>\n",
       "      <td>USPS</td>\n",
       "      <td>Otros</td>\n",
       "      <td>Taxes</td>\n",
       "      <td>3.09</td>\n",
       "    </tr>\n",
       "    <tr>\n",
       "      <th>224</th>\n",
       "      <td>6/13/2020</td>\n",
       "      <td>Tops</td>\n",
       "      <td>Supermercado</td>\n",
       "      <td>Higiene</td>\n",
       "      <td>6.24</td>\n",
       "    </tr>\n",
       "    <tr>\n",
       "      <th>225</th>\n",
       "      <td>6/13/2020</td>\n",
       "      <td>Tops</td>\n",
       "      <td>Supermercado</td>\n",
       "      <td>Comida</td>\n",
       "      <td>50.92</td>\n",
       "    </tr>\n",
       "  </tbody>\n",
       "</table>\n",
       "</div>"
      ],
      "text/plain": [
       "         Fecha       Lugar     Categoria Sub_categoria  Total\n",
       "218   6/4/2020    T-mobile     Servicios       Celular  98.15\n",
       "219   6/2/2020     Spotify     Servicios         Otros   9.99\n",
       "220   6/2/2020    Hercules     Servicios       Laundry  10.00\n",
       "221   6/6/2020    Chipotle    Restaurant          Cena  11.56\n",
       "222   6/6/2020  Home depot  Supermercado        Unicos  33.71\n",
       "223  6/13/2020        USPS         Otros         Taxes   3.09\n",
       "224  6/13/2020        Tops  Supermercado       Higiene   6.24\n",
       "225  6/13/2020        Tops  Supermercado        Comida  50.92"
      ]
     },
     "execution_count": 3,
     "metadata": {},
     "output_type": "execute_result"
    }
   ],
   "source": [
    "gastos.tail(8)"
   ]
  },
  {
   "cell_type": "code",
   "execution_count": 4,
   "metadata": {},
   "outputs": [
    {
     "data": {
      "text/plain": [
       "Fecha             object\n",
       "Lugar             object\n",
       "Categoria         object\n",
       "Sub_categoria     object\n",
       "Total            float64\n",
       "dtype: object"
      ]
     },
     "execution_count": 4,
     "metadata": {},
     "output_type": "execute_result"
    }
   ],
   "source": [
    "gastos.dtypes"
   ]
  },
  {
   "cell_type": "code",
   "execution_count": 5,
   "metadata": {},
   "outputs": [],
   "source": [
    "gastos['Fecha']=pd.to_datetime(gastos['Fecha'])"
   ]
  },
  {
   "cell_type": "code",
   "execution_count": 6,
   "metadata": {},
   "outputs": [],
   "source": [
    "gastos['Month']=gastos['Fecha'].dt.month"
   ]
  },
  {
   "cell_type": "code",
   "execution_count": 7,
   "metadata": {},
   "outputs": [],
   "source": [
    "gastos['Day']=gastos['Fecha'].dt.day"
   ]
  },
  {
   "cell_type": "code",
   "execution_count": 8,
   "metadata": {},
   "outputs": [
    {
     "data": {
      "text/plain": [
       "(226, 7)"
      ]
     },
     "execution_count": 8,
     "metadata": {},
     "output_type": "execute_result"
    }
   ],
   "source": [
    "gastos.shape"
   ]
  },
  {
   "cell_type": "code",
   "execution_count": 9,
   "metadata": {},
   "outputs": [
    {
     "data": {
      "text/plain": [
       "Month\n",
       "2    4522.96\n",
       "3    3381.26\n",
       "4    2144.38\n",
       "5    2639.78\n",
       "6    1311.01\n",
       "Name: Total, dtype: float64"
      ]
     },
     "execution_count": 9,
     "metadata": {},
     "output_type": "execute_result"
    }
   ],
   "source": [
    "gastos.groupby('Month').Total.sum()"
   ]
  },
  {
   "cell_type": "code",
   "execution_count": 10,
   "metadata": {},
   "outputs": [],
   "source": [
    "categorias = gastos.groupby(['Categoria','Month']).Total.sum()"
   ]
  },
  {
   "cell_type": "code",
   "execution_count": 11,
   "metadata": {},
   "outputs": [
    {
     "data": {
      "image/png": "[encoded data removed]",
      "text/plain": [
       "<Figure size 1080x720 with 1 Axes>"
      ]
     },
     "metadata": {
      "needs_background": "light"
     },
     "output_type": "display_data"
    }
   ],
   "source": [
    "categorias.unstack().plot(kind='bar', stacked=False,figsize=[15,10])\n",
    "plt.xticks(\n",
    "    rotation=0,\n",
    "   # horizontalalignment='right',\n",
    "   # fontweight='light',\n",
    "    fontsize='medium',\n",
    ");"
   ]
  },
  {
   "cell_type": "code",
   "execution_count": 12,
   "metadata": {},
   "outputs": [
    {
     "data": {
      "text/plain": [
       "Categoria        Sub_categoria     Month\n",
       "Auto             Arreglos          2         362.65\n",
       "                 Insurance         3         265.67\n",
       "                 Lavado            2          23.71\n",
       "                                   4          23.71\n",
       "                 Nafta             2         115.75\n",
       "                                   3          41.18\n",
       "                                   5          18.86\n",
       "                 Otros             2          43.12\n",
       "                 Peajes            2          25.00\n",
       "                                   3          25.00\n",
       "Entretenimiento  Alquiler peli     5           5.99\n",
       "                 Bowling           2          30.00\n",
       "                                   3          21.00\n",
       "                 Cine              2          57.80\n",
       "                 Teatro            2         205.10\n",
       "Otros            Taxes             6           3.09\n",
       "Restaurant       Almuerzo          2         188.35\n",
       "                                   3         125.62\n",
       "                                   5          17.77\n",
       "                 Cena              2         314.74\n",
       "                                   3         109.76\n",
       "                                   4          31.15\n",
       "                                   6          11.56\n",
       "                 Otros             2          43.97\n",
       "                                   3          44.43\n",
       "Ropa             Ropa              2         131.52\n",
       "                                   3         171.89\n",
       "Servicios        Alquiler          2        1055.00\n",
       "                                   3        1055.00\n",
       "                                   4        1055.00\n",
       "                                             ...   \n",
       "Supermercado     Unicos            3          27.64\n",
       "                                   4          31.44\n",
       "                                   6          33.71\n",
       "Unicos           Acolchado         2          26.99\n",
       "                 Auriculares       2         150.12\n",
       "                 Banquito cocina   3          10.79\n",
       "                 Barbijos          5          12.83\n",
       "                 Cinta puerta      5           7.55\n",
       "                 Cobro transf      3           7.00\n",
       "                 Correo            3           5.57\n",
       "                 Cuota anual       5          75.00\n",
       "                 Depiladora        6          32.35\n",
       "                 Escritorio        5          59.96\n",
       "                 Lamparas          2          38.86\n",
       "                 Libros            3           5.78\n",
       "                 Manta picnic      5           8.63\n",
       "                 Mat rompecabezas  5          28.07\n",
       "                 Merchandasing     2           8.44\n",
       "                 Mesitas de luz    2          99.34\n",
       "                 Minipimer y olla  2          80.96\n",
       "                 Muebles           2         251.94\n",
       "                 Organizador       2           8.60\n",
       "                 Pelotita          4           6.37\n",
       "                 Regalo mama       3          44.71\n",
       "                 Regalo vero       4          11.57\n",
       "                 Rompecabezas      2          21.26\n",
       "                 Sabanas           2          16.19\n",
       "                 Sopapa            4           8.29\n",
       "                 Taxes             5          43.84\n",
       "                 Visa Canada       2         276.66\n",
       "Name: Total, Length: 107, dtype: float64"
      ]
     },
     "execution_count": 12,
     "metadata": {},
     "output_type": "execute_result"
    }
   ],
   "source": [
    "gastos.groupby(['Categoria','Sub_categoria','Month']).Total.sum()"
   ]
  },
  {
   "cell_type": "code",
   "execution_count": 13,
   "metadata": {},
   "outputs": [],
   "source": [
    "#gastos[gastos.Categoria == 'Restaurant'].groupby(['Lugar']).Total.sum()"
   ]
  },
  {
   "cell_type": "code",
   "execution_count": 14,
   "metadata": {},
   "outputs": [
    {
     "data": {
      "image/png": "[encoded data removed]",
      "text/plain": [
       "<Figure size 432x288 with 1 Axes>"
      ]
     },
     "metadata": {
      "needs_background": "light"
     },
     "output_type": "display_data"
    }
   ],
   "source": [
    "plt.plot(gastos.groupby('Month').Total.sum(),'o');"
   ]
  },
  {
   "cell_type": "code",
   "execution_count": 15,
   "metadata": {},
   "outputs": [
    {
     "data": {
      "text/plain": [
       "<matplotlib.axes._subplots.AxesSubplot at 0x7f2835dedef0>"
      ]
     },
     "execution_count": 15,
     "metadata": {},
     "output_type": "execute_result"
    },
    {
     "data": {
      "image/png": "[encoded data removed]",
      "text/plain": [
       "<Figure size 432x288 with 1 Axes>"
      ]
     },
     "metadata": {
      "needs_background": "light"
     },
     "output_type": "display_data"
    }
   ],
   "source": [
    "gastos[gastos.Sub_categoria == 'Comida'].Total.plot()"
   ]
  },
  {
   "cell_type": "code",
   "execution_count": 16,
   "metadata": {},
   "outputs": [],
   "source": [
    "comida = gastos[gastos.Sub_categoria == 'Comida']"
   ]
  },
  {
   "cell_type": "code",
   "execution_count": 17,
   "metadata": {},
   "outputs": [
    {
     "data": {
      "text/plain": [
       "<matplotlib.collections.PathCollection at 0x7f28354b95c0>"
      ]
     },
     "execution_count": 17,
     "metadata": {},
     "output_type": "execute_result"
    },
    {
     "data": {
      "image/png": "[encoded data removed]",
      "text/plain": [
       "<Figure size 432x288 with 1 Axes>"
      ]
     },
     "metadata": {
      "needs_background": "light"
     },
     "output_type": "display_data"
    }
   ],
   "source": [
    "plt.scatter(x=comida['Fecha'],y=comida['Total'])"
   ]
  },
  {
   "cell_type": "code",
   "execution_count": null,
   "metadata": {},
   "outputs": [],
   "source": []
  },
  {
   "cell_type": "code",
   "execution_count": null,
   "metadata": {},
   "outputs": [],
   "source": []
  }
 ],
 "metadata": {
  "kernelspec": {
   "display_name": "Python 3",
   "language": "python",
   "name": "python3"
  },
  "language_info": {
   "codemirror_mode": {
    "name": "ipython",
    "version": 3
   },
   "file_extension": ".py",
   "mimetype": "text/x-python",
   "name": "python",
   "nbconvert_exporter": "python",
   "pygments_lexer": "ipython3",
   "version": "3.7.3"
  }
 },
 "nbformat": 4,
 "nbformat_minor": 2
}
